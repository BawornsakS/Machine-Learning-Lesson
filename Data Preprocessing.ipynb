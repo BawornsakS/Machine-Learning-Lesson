{
 "cells": [
  {
   "cell_type": "markdown",
   "metadata": {},
   "source": [
    "# Feature Scaling\n",
    "\n",
    "## Standardization (Z-score normalization)\n",
    "\n",
    "from http://scikit-learn.org/stable/modules/preprocessing.html#standardization-or-mean-removal-and-variance-scaling"
   ]
  },
  {
   "cell_type": "code",
   "execution_count": 1,
   "metadata": {
    "collapsed": false
   },
   "outputs": [
    {
     "name": "stdout",
     "output_type": "stream",
     "text": [
      "X_scaled: \n",
      "[[ 0.         -1.22474487  1.33630621]\n",
      " [ 1.22474487  0.         -0.26726124]\n",
      " [-1.22474487  1.22474487 -1.06904497]]\n",
      "\n",
      "X_scaled.mean:\n",
      "[ 0.  0.  0.]\n",
      "\n",
      "X_scaled.std:\n",
      "[ 1.  1.  1.]\n"
     ]
    }
   ],
   "source": [
    "from sklearn import preprocessing\n",
    "import numpy as np\n",
    "X = np.array([[ 1., -1.,  2.],\n",
    "                     [ 2.,  0.,  0.],\n",
    "                     [ 0.,  1., -1.]])\n",
    "X_scaled = preprocessing.scale(X)\n",
    "\n",
    "print('X_scaled: ')\n",
    "print(X_scaled)\n",
    "\n",
    "print('\\nX_scaled.mean:') \n",
    "print(X_scaled.mean(axis=0))\n",
    "\n",
    "print('\\nX_scaled.std:') \n",
    "print(X_scaled.std(axis=0))\n"
   ]
  },
  {
   "cell_type": "markdown",
   "metadata": {},
   "source": [
    "# Skew Distribution\n",
    "\n",
    "## Transform data with skew distribution to normal distribution\n",
    "\n",
    "from https://docs.scipy.org/doc/scipy-0.14.0/reference/generated/scipy.stats.skew.html"
   ]
  },
  {
   "cell_type": "code",
   "execution_count": 2,
   "metadata": {
    "collapsed": false
   },
   "outputs": [
    {
     "data": {
      "image/png": "[encoded data removed]",
      "text/plain": [
       "<matplotlib.figure.Figure at 0x10f421240>"
      ]
     },
     "metadata": {},
     "output_type": "display_data"
    }
   ],
   "source": [
    "import numpy as np\n",
    "import matplotlib\n",
    "import matplotlib.pyplot as plt\n",
    "\n",
    "X = np.array([[1,2 ,2, 2, 2, 2, 2, 3, 3, 3, 4, 5]])\n",
    "X = np.transpose(X)\n",
    "X_log = np.log(X)\n",
    "\n",
    "\n",
    "# plot histogram\n",
    "plt.figure(1)\n",
    "\n",
    "plt.subplot(121)\n",
    "plt.hist(X)\n",
    "plt.title('X')\n",
    "\n",
    "plt.subplot(122)\n",
    "plt.hist(X_log)\n",
    "plt.title('X_log')\n",
    "\n",
    "plt.tight_layout()\n",
    "\n",
    "plt.show()"
   ]
  },
  {
   "cell_type": "markdown",
   "metadata": {},
   "source": [
    "# Dealing with Missing Value\n",
    "\n",
    "## Drop rows or columns with missing values\n",
    "\n",
    "from https://pandas.pydata.org/pandas-docs/stable/generated/pandas.DataFrame.dropna.html"
   ]
  },
  {
   "cell_type": "code",
   "execution_count": 3,
   "metadata": {
    "collapsed": false
   },
   "outputs": [
    {
     "data": {
      "text/html": [
       "<div>\n",
       "<table border=\"1\" class=\"dataframe\">\n",
       "  <thead>\n",
       "    <tr style=\"text-align: right;\">\n",
       "      <th></th>\n",
       "      <th>A</th>\n",
       "      <th>B</th>\n",
       "      <th>C</th>\n",
       "      <th>D</th>\n",
       "    </tr>\n",
       "  </thead>\n",
       "  <tbody>\n",
       "    <tr>\n",
       "      <th>0</th>\n",
       "      <td>NaN</td>\n",
       "      <td>2.0</td>\n",
       "      <td>NaN</td>\n",
       "      <td>0</td>\n",
       "    </tr>\n",
       "    <tr>\n",
       "      <th>1</th>\n",
       "      <td>3.0</td>\n",
       "      <td>4.0</td>\n",
       "      <td>NaN</td>\n",
       "      <td>1</td>\n",
       "    </tr>\n",
       "    <tr>\n",
       "      <th>2</th>\n",
       "      <td>NaN</td>\n",
       "      <td>NaN</td>\n",
       "      <td>NaN</td>\n",
       "      <td>5</td>\n",
       "    </tr>\n",
       "  </tbody>\n",
       "</table>\n",
       "</div>"
      ],
      "text/plain": [
       "     A    B   C  D\n",
       "0  NaN  2.0 NaN  0\n",
       "1  3.0  4.0 NaN  1\n",
       "2  NaN  NaN NaN  5"
      ]
     },
     "execution_count": 3,
     "metadata": {},
     "output_type": "execute_result"
    }
   ],
   "source": [
    "import pandas as pd\n",
    "import numpy as np\n",
    "\n",
    "df = pd.DataFrame([[np.nan, 2, np.nan, 0], [3, 4, np.nan, 1], [np.nan, np.nan, np.nan, 5]], columns=list('ABCD'))\n",
    "df.head()"
   ]
  },
  {
   "cell_type": "code",
   "execution_count": 4,
   "metadata": {
    "collapsed": false
   },
   "outputs": [
    {
     "data": {
      "text/html": [
       "<div>\n",
       "<table border=\"1\" class=\"dataframe\">\n",
       "  <thead>\n",
       "    <tr style=\"text-align: right;\">\n",
       "      <th></th>\n",
       "      <th>D</th>\n",
       "    </tr>\n",
       "  </thead>\n",
       "  <tbody>\n",
       "    <tr>\n",
       "      <th>0</th>\n",
       "      <td>0</td>\n",
       "    </tr>\n",
       "    <tr>\n",
       "      <th>1</th>\n",
       "      <td>1</td>\n",
       "    </tr>\n",
       "    <tr>\n",
       "      <th>2</th>\n",
       "      <td>5</td>\n",
       "    </tr>\n",
       "  </tbody>\n",
       "</table>\n",
       "</div>"
      ],
      "text/plain": [
       "   D\n",
       "0  0\n",
       "1  1\n",
       "2  5"
      ]
     },
     "execution_count": 4,
     "metadata": {},
     "output_type": "execute_result"
    }
   ],
   "source": [
    "df.dropna(axis=1, how='any')"
   ]
  },
  {
   "cell_type": "code",
   "execution_count": 5,
   "metadata": {
    "collapsed": false
   },
   "outputs": [
    {
     "data": {
      "text/html": [
       "<div>\n",
       "<table border=\"1\" class=\"dataframe\">\n",
       "  <thead>\n",
       "    <tr style=\"text-align: right;\">\n",
       "      <th></th>\n",
       "      <th>A</th>\n",
       "      <th>B</th>\n",
       "      <th>D</th>\n",
       "    </tr>\n",
       "  </thead>\n",
       "  <tbody>\n",
       "    <tr>\n",
       "      <th>0</th>\n",
       "      <td>NaN</td>\n",
       "      <td>2.0</td>\n",
       "      <td>0</td>\n",
       "    </tr>\n",
       "    <tr>\n",
       "      <th>1</th>\n",
       "      <td>3.0</td>\n",
       "      <td>4.0</td>\n",
       "      <td>1</td>\n",
       "    </tr>\n",
       "    <tr>\n",
       "      <th>2</th>\n",
       "      <td>NaN</td>\n",
       "      <td>NaN</td>\n",
       "      <td>5</td>\n",
       "    </tr>\n",
       "  </tbody>\n",
       "</table>\n",
       "</div>"
      ],
      "text/plain": [
       "     A    B  D\n",
       "0  NaN  2.0  0\n",
       "1  3.0  4.0  1\n",
       "2  NaN  NaN  5"
      ]
     },
     "execution_count": 5,
     "metadata": {},
     "output_type": "execute_result"
    }
   ],
   "source": [
    "df.dropna(axis=1, how='all')"
   ]
  },
  {
   "cell_type": "code",
   "execution_count": 6,
   "metadata": {
    "collapsed": false
   },
   "outputs": [
    {
     "data": {
      "text/html": [
       "<div>\n",
       "<table border=\"1\" class=\"dataframe\">\n",
       "  <thead>\n",
       "    <tr style=\"text-align: right;\">\n",
       "      <th></th>\n",
       "      <th>B</th>\n",
       "      <th>C</th>\n",
       "      <th>D</th>\n",
       "    </tr>\n",
       "  </thead>\n",
       "  <tbody>\n",
       "    <tr>\n",
       "      <th>0</th>\n",
       "      <td>2.0</td>\n",
       "      <td>NaN</td>\n",
       "      <td>0</td>\n",
       "    </tr>\n",
       "    <tr>\n",
       "      <th>1</th>\n",
       "      <td>4.0</td>\n",
       "      <td>NaN</td>\n",
       "      <td>1</td>\n",
       "    </tr>\n",
       "    <tr>\n",
       "      <th>2</th>\n",
       "      <td>NaN</td>\n",
       "      <td>NaN</td>\n",
       "      <td>5</td>\n",
       "    </tr>\n",
       "  </tbody>\n",
       "</table>\n",
       "</div>"
      ],
      "text/plain": [
       "     B   C  D\n",
       "0  2.0 NaN  0\n",
       "1  4.0 NaN  1\n",
       "2  NaN NaN  5"
      ]
     },
     "execution_count": 6,
     "metadata": {},
     "output_type": "execute_result"
    }
   ],
   "source": [
    "df.drop(['A'],axis=1)"
   ]
  },
  {
   "cell_type": "code",
   "execution_count": 7,
   "metadata": {
    "collapsed": false
   },
   "outputs": [
    {
     "data": {
      "text/html": [
       "<div>\n",
       "<table border=\"1\" class=\"dataframe\">\n",
       "  <thead>\n",
       "    <tr style=\"text-align: right;\">\n",
       "      <th></th>\n",
       "      <th>A</th>\n",
       "      <th>B</th>\n",
       "      <th>C</th>\n",
       "      <th>D</th>\n",
       "    </tr>\n",
       "  </thead>\n",
       "  <tbody>\n",
       "    <tr>\n",
       "      <th>1</th>\n",
       "      <td>3.0</td>\n",
       "      <td>4.0</td>\n",
       "      <td>NaN</td>\n",
       "      <td>1</td>\n",
       "    </tr>\n",
       "    <tr>\n",
       "      <th>2</th>\n",
       "      <td>NaN</td>\n",
       "      <td>NaN</td>\n",
       "      <td>NaN</td>\n",
       "      <td>5</td>\n",
       "    </tr>\n",
       "  </tbody>\n",
       "</table>\n",
       "</div>"
      ],
      "text/plain": [
       "     A    B   C  D\n",
       "1  3.0  4.0 NaN  1\n",
       "2  NaN  NaN NaN  5"
      ]
     },
     "execution_count": 7,
     "metadata": {},
     "output_type": "execute_result"
    }
   ],
   "source": [
    "df.drop(0,axis=0)"
   ]
  },
  {
   "cell_type": "code",
   "execution_count": 8,
   "metadata": {
    "collapsed": false
   },
   "outputs": [
    {
     "data": {
      "text/html": [
       "<div>\n",
       "<table border=\"1\" class=\"dataframe\">\n",
       "  <thead>\n",
       "    <tr style=\"text-align: right;\">\n",
       "      <th></th>\n",
       "      <th>A</th>\n",
       "      <th>B</th>\n",
       "      <th>C</th>\n",
       "      <th>D</th>\n",
       "    </tr>\n",
       "  </thead>\n",
       "  <tbody>\n",
       "    <tr>\n",
       "      <th>0</th>\n",
       "      <td>NaN</td>\n",
       "      <td>2.0</td>\n",
       "      <td>NaN</td>\n",
       "      <td>0</td>\n",
       "    </tr>\n",
       "    <tr>\n",
       "      <th>1</th>\n",
       "      <td>3.0</td>\n",
       "      <td>4.0</td>\n",
       "      <td>NaN</td>\n",
       "      <td>1</td>\n",
       "    </tr>\n",
       "    <tr>\n",
       "      <th>2</th>\n",
       "      <td>NaN</td>\n",
       "      <td>3.0</td>\n",
       "      <td>NaN</td>\n",
       "      <td>5</td>\n",
       "    </tr>\n",
       "  </tbody>\n",
       "</table>\n",
       "</div>"
      ],
      "text/plain": [
       "     A    B   C  D\n",
       "0  NaN  2.0 NaN  0\n",
       "1  3.0  4.0 NaN  1\n",
       "2  NaN  3.0 NaN  5"
      ]
     },
     "execution_count": 8,
     "metadata": {},
     "output_type": "execute_result"
    }
   ],
   "source": [
    "df.B = df.B.fillna(df.mean()[\"B\"])\n",
    "\n",
    "df.head()"
   ]
  },
  {
   "cell_type": "markdown",
   "metadata": {
    "collapsed": true
   },
   "source": [
    "# Lab Instruction"
   ]
  },
  {
   "cell_type": "markdown",
   "metadata": {},
   "source": [
    "# Part 1: Import the dataset\n",
    "\n",
    "Import \"Preprocessing and Linear Regression Dataset.csv\""
   ]
  },
  {
   "cell_type": "code",
   "execution_count": 9,
   "metadata": {
    "collapsed": true
   },
   "outputs": [],
   "source": [
    "import pandas as pd\n",
    "df = pd.read_csv(\"Preprocessing & Linear Regression Lab.csv\")"
   ]
  },
  {
   "cell_type": "code",
   "execution_count": 10,
   "metadata": {
    "collapsed": false
   },
   "outputs": [
    {
     "data": {
      "text/html": [
       "<div>\n",
       "<table border=\"1\" class=\"dataframe\">\n",
       "  <thead>\n",
       "    <tr style=\"text-align: right;\">\n",
       "      <th></th>\n",
       "      <th>Unnamed: 0</th>\n",
       "      <th>Foundation</th>\n",
       "      <th>1stFlrSF</th>\n",
       "      <th>KitchenQual</th>\n",
       "      <th>Fireplaces</th>\n",
       "      <th>HeatingQC</th>\n",
       "      <th>FullBath</th>\n",
       "      <th>BsmtQual</th>\n",
       "      <th>OpenPorchSF</th>\n",
       "      <th>GarageYrBlt</th>\n",
       "      <th>...</th>\n",
       "      <th>BsmtFinType1</th>\n",
       "      <th>YearBuilt</th>\n",
       "      <th>GarageArea</th>\n",
       "      <th>TotRmsAbvGrd</th>\n",
       "      <th>GarageCars</th>\n",
       "      <th>GrLivArea</th>\n",
       "      <th>YearRemodAdd</th>\n",
       "      <th>LotFrontage</th>\n",
       "      <th>Fence</th>\n",
       "      <th>SalePrice</th>\n",
       "    </tr>\n",
       "  </thead>\n",
       "  <tbody>\n",
       "    <tr>\n",
       "      <th>0</th>\n",
       "      <td>0</td>\n",
       "      <td>PConc</td>\n",
       "      <td>856</td>\n",
       "      <td>Gd</td>\n",
       "      <td>0</td>\n",
       "      <td>Ex</td>\n",
       "      <td>2</td>\n",
       "      <td>Gd</td>\n",
       "      <td>61</td>\n",
       "      <td>2003.0</td>\n",
       "      <td>...</td>\n",
       "      <td>GLQ</td>\n",
       "      <td>2003</td>\n",
       "      <td>548</td>\n",
       "      <td>8</td>\n",
       "      <td>2</td>\n",
       "      <td>1710</td>\n",
       "      <td>2003</td>\n",
       "      <td>65.0</td>\n",
       "      <td>NaN</td>\n",
       "      <td>208500</td>\n",
       "    </tr>\n",
       "    <tr>\n",
       "      <th>1</th>\n",
       "      <td>1</td>\n",
       "      <td>CBlock</td>\n",
       "      <td>1262</td>\n",
       "      <td>TA</td>\n",
       "      <td>1</td>\n",
       "      <td>Ex</td>\n",
       "      <td>2</td>\n",
       "      <td>Gd</td>\n",
       "      <td>0</td>\n",
       "      <td>1976.0</td>\n",
       "      <td>...</td>\n",
       "      <td>ALQ</td>\n",
       "      <td>1976</td>\n",
       "      <td>460</td>\n",
       "      <td>6</td>\n",
       "      <td>2</td>\n",
       "      <td>1262</td>\n",
       "      <td>1976</td>\n",
       "      <td>80.0</td>\n",
       "      <td>NaN</td>\n",
       "      <td>181500</td>\n",
       "    </tr>\n",
       "    <tr>\n",
       "      <th>2</th>\n",
       "      <td>2</td>\n",
       "      <td>PConc</td>\n",
       "      <td>920</td>\n",
       "      <td>Gd</td>\n",
       "      <td>1</td>\n",
       "      <td>Ex</td>\n",
       "      <td>2</td>\n",
       "      <td>Gd</td>\n",
       "      <td>42</td>\n",
       "      <td>2001.0</td>\n",
       "      <td>...</td>\n",
       "      <td>GLQ</td>\n",
       "      <td>2001</td>\n",
       "      <td>608</td>\n",
       "      <td>6</td>\n",
       "      <td>2</td>\n",
       "      <td>1786</td>\n",
       "      <td>2002</td>\n",
       "      <td>68.0</td>\n",
       "      <td>NaN</td>\n",
       "      <td>223500</td>\n",
       "    </tr>\n",
       "    <tr>\n",
       "      <th>3</th>\n",
       "      <td>3</td>\n",
       "      <td>BrkTil</td>\n",
       "      <td>961</td>\n",
       "      <td>Gd</td>\n",
       "      <td>1</td>\n",
       "      <td>Gd</td>\n",
       "      <td>1</td>\n",
       "      <td>TA</td>\n",
       "      <td>35</td>\n",
       "      <td>1998.0</td>\n",
       "      <td>...</td>\n",
       "      <td>ALQ</td>\n",
       "      <td>1915</td>\n",
       "      <td>642</td>\n",
       "      <td>7</td>\n",
       "      <td>3</td>\n",
       "      <td>1717</td>\n",
       "      <td>1970</td>\n",
       "      <td>60.0</td>\n",
       "      <td>NaN</td>\n",
       "      <td>140000</td>\n",
       "    </tr>\n",
       "    <tr>\n",
       "      <th>4</th>\n",
       "      <td>4</td>\n",
       "      <td>PConc</td>\n",
       "      <td>1145</td>\n",
       "      <td>Gd</td>\n",
       "      <td>1</td>\n",
       "      <td>Ex</td>\n",
       "      <td>2</td>\n",
       "      <td>Gd</td>\n",
       "      <td>84</td>\n",
       "      <td>2000.0</td>\n",
       "      <td>...</td>\n",
       "      <td>GLQ</td>\n",
       "      <td>2000</td>\n",
       "      <td>836</td>\n",
       "      <td>9</td>\n",
       "      <td>3</td>\n",
       "      <td>2198</td>\n",
       "      <td>2000</td>\n",
       "      <td>84.0</td>\n",
       "      <td>NaN</td>\n",
       "      <td>250000</td>\n",
       "    </tr>\n",
       "  </tbody>\n",
       "</table>\n",
       "<p>5 rows × 22 columns</p>\n",
       "</div>"
      ],
      "text/plain": [
       "   Unnamed: 0 Foundation  1stFlrSF KitchenQual  Fireplaces HeatingQC  \\\n",
       "0           0      PConc       856          Gd           0        Ex   \n",
       "1           1     CBlock      1262          TA           1        Ex   \n",
       "2           2      PConc       920          Gd           1        Ex   \n",
       "3           3     BrkTil       961          Gd           1        Gd   \n",
       "4           4      PConc      1145          Gd           1        Ex   \n",
       "\n",
       "   FullBath BsmtQual  OpenPorchSF  GarageYrBlt    ...     BsmtFinType1  \\\n",
       "0         2       Gd           61       2003.0    ...              GLQ   \n",
       "1         2       Gd            0       1976.0    ...              ALQ   \n",
       "2         2       Gd           42       2001.0    ...              GLQ   \n",
       "3         1       TA           35       1998.0    ...              ALQ   \n",
       "4         2       Gd           84       2000.0    ...              GLQ   \n",
       "\n",
       "   YearBuilt GarageArea  TotRmsAbvGrd  GarageCars  GrLivArea  YearRemodAdd  \\\n",
       "0       2003        548             8           2       1710          2003   \n",
       "1       1976        460             6           2       1262          1976   \n",
       "2       2001        608             6           2       1786          2002   \n",
       "3       1915        642             7           3       1717          1970   \n",
       "4       2000        836             9           3       2198          2000   \n",
       "\n",
       "   LotFrontage  Fence  SalePrice  \n",
       "0         65.0    NaN     208500  \n",
       "1         80.0    NaN     181500  \n",
       "2         68.0    NaN     223500  \n",
       "3         60.0    NaN     140000  \n",
       "4         84.0    NaN     250000  \n",
       "\n",
       "[5 rows x 22 columns]"
      ]
     },
     "execution_count": 10,
     "metadata": {},
     "output_type": "execute_result"
    }
   ],
   "source": [
    "df.head()"
   ]
  },
  {
   "cell_type": "markdown",
   "metadata": {},
   "source": [
    "# Part 2: Preprocessing\n",
    "\n",
    "Look at the dataset and try to preprocess it. There are many problems with this dataset. Apply your knowledge to this dataset, and try to answer the following questions\n",
    "\n",
    "1. Which features need preprocessing? Does the feature have NaN value? What is the distribution of the data if we plot them? Is that normal?\n",
    "2. How do we preprocess such features?"
   ]
  },
  {
   "cell_type": "code",
   "execution_count": null,
   "metadata": {
    "collapsed": true
   },
   "outputs": [],
   "source": []
  }
 ],
 "metadata": {
  "kernelspec": {
   "display_name": "Python 3",
   "language": "python",
   "name": "python3"
  },
  "language_info": {
   "codemirror_mode": {
    "name": "ipython",
    "version": 3
   },
   "file_extension": ".py",
   "mimetype": "text/x-python",
   "name": "python",
   "nbconvert_exporter": "python",
   "pygments_lexer": "ipython3",
   "version": "3.6.0"
  }
 },
 "nbformat": 4,
 "nbformat_minor": 2
}
